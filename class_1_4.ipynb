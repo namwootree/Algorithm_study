{
  "nbformat": 4,
  "nbformat_minor": 0,
  "metadata": {
    "colab": {
      "name": "class_1_4.ipynb",
      "provenance": [],
      "authorship_tag": "ABX9TyNREpgZ1wOjEjd2C5xbSEZ3",
      "include_colab_link": true
    },
    "kernelspec": {
      "name": "python3",
      "display_name": "Python 3"
    },
    "language_info": {
      "name": "python"
    }
  },
  "cells": [
    {
      "cell_type": "markdown",
      "metadata": {
        "id": "view-in-github",
        "colab_type": "text"
      },
      "source": [
        "<a href=\"https://colab.research.google.com/github/namwootree/Algorithm_study/blob/main/class_1_4.ipynb\" target=\"_parent\"><img src=\"https://colab.research.google.com/assets/colab-badge.svg\" alt=\"Open In Colab\"/></a>"
      ]
    },
    {
      "cell_type": "code",
      "source": [
        "num = int(input())\n",
        "\n",
        "for _ in range(num):\n",
        "\n",
        "  list_info = input().split()\n",
        "\n",
        "  time, sentence = int(list_info[0]), str(list_info[-1])\n",
        "  result = ''\n",
        "  for i in list(sentence):\n",
        "    result += i*time\n",
        "  \n",
        "  print(result)"
      ],
      "metadata": {
        "id": "Vp_h2pdLDxTN",
        "colab": {
          "base_uri": "https://localhost:8080/"
        },
        "outputId": "69bbd058-1daf-41ad-cd73-1c2a41881028"
      },
      "execution_count": null,
      "outputs": [
        {
          "output_type": "stream",
          "name": "stdout",
          "text": [
            "2\n",
            "3 ABC\n",
            "AAABBBCCC\n",
            "5 /HTP\n",
            "///HHHTTTPPP\n"
          ]
        }
      ]
    },
    {
      "cell_type": "code",
      "source": [
        "while True:\n",
        "  A, B = map(int, input().split())\n",
        "\n",
        "  if A == 0 & B == 0:\n",
        "    break\n",
        "  else:\n",
        "    print(A+B)\n"
      ],
      "metadata": {
        "colab": {
          "base_uri": "https://localhost:8080/"
        },
        "id": "nNnyNou2n9R4",
        "outputId": "5b2f2c55-9a2b-46f0-8eba-5b80d20f8dd3"
      },
      "execution_count": null,
      "outputs": [
        {
          "output_type": "stream",
          "name": "stdout",
          "text": [
            "1 1\n",
            "2\n"
          ]
        }
      ]
    },
    {
      "cell_type": "code",
      "source": [
        "A = str(input())\n",
        "\n",
        "print(ord(A))"
      ],
      "metadata": {
        "colab": {
          "base_uri": "https://localhost:8080/",
          "height": 258
        },
        "id": "TRGJk_GNn_gk",
        "outputId": "7f61e5fb-f406-4271-af0a-853670e9bbc2"
      },
      "execution_count": null,
      "outputs": [
        {
          "name": "stdout",
          "output_type": "stream",
          "text": [
            "1\n"
          ]
        },
        {
          "output_type": "error",
          "ename": "TypeError",
          "evalue": "ignored",
          "traceback": [
            "\u001b[0;31m---------------------------------------------------------------------------\u001b[0m",
            "\u001b[0;31mTypeError\u001b[0m                                 Traceback (most recent call last)",
            "\u001b[0;32m<ipython-input-17-7142b15c14b8>\u001b[0m in \u001b[0;36m<module>\u001b[0;34m()\u001b[0m\n\u001b[1;32m      1\u001b[0m \u001b[0mA\u001b[0m \u001b[0;34m=\u001b[0m \u001b[0mint\u001b[0m\u001b[0;34m(\u001b[0m\u001b[0minput\u001b[0m\u001b[0;34m(\u001b[0m\u001b[0;34m)\u001b[0m\u001b[0;34m)\u001b[0m\u001b[0;34m\u001b[0m\u001b[0;34m\u001b[0m\u001b[0m\n\u001b[1;32m      2\u001b[0m \u001b[0;34m\u001b[0m\u001b[0m\n\u001b[0;32m----> 3\u001b[0;31m \u001b[0mprint\u001b[0m\u001b[0;34m(\u001b[0m\u001b[0mord\u001b[0m\u001b[0;34m(\u001b[0m\u001b[0mA\u001b[0m\u001b[0;34m)\u001b[0m\u001b[0;34m)\u001b[0m\u001b[0;34m\u001b[0m\u001b[0;34m\u001b[0m\u001b[0m\n\u001b[0m",
            "\u001b[0;31mTypeError\u001b[0m: ord() expected string of length 1, but int found"
          ]
        }
      ]
    },
    {
      "cell_type": "code",
      "source": [
        "dict_word = {}\n",
        "\n",
        "word = input()\n",
        "\n",
        "word = word.upper()\n",
        "\n",
        "for i in word:\n",
        "    if i not in dict_word:\n",
        "        dict_word[i] = 1\n",
        "    else:\n",
        "        dict_word[i] += 1\n",
        "\n",
        "val = list(dict_word.values())\n",
        "\n",
        "val.sort(reverse=True)\n",
        "\n",
        "if len(val) == 1:\n",
        "  print(word[0])\n",
        "\n",
        "elif val[0] == val[1]:\n",
        "    print(\"?\")\n",
        "else:\n",
        "    for key, value in dict_word.items():\n",
        "        if value == val[0]:\n",
        "            print(key)"
      ],
      "metadata": {
        "colab": {
          "base_uri": "https://localhost:8080/"
        },
        "id": "jDagPcvDyo4t",
        "outputId": "619e27a6-bfdc-490e-b2b3-faad4e7c4d73"
      },
      "execution_count": null,
      "outputs": [
        {
          "output_type": "stream",
          "name": "stdout",
          "text": [
            "Mississipi\n",
            "?\n"
          ]
        }
      ]
    },
    {
      "cell_type": "code",
      "source": [
        "year = int(input())\n",
        "\n",
        "\n",
        "if year % 4 == 0:\n",
        "  if year % 100 !=0:\n",
        "    print(1)\n",
        "  elif year % 400 == 0:\n",
        "    print(1)\n",
        "  else:\n",
        "    print(0)\n",
        "else:\n",
        "  print(0)"
      ],
      "metadata": {
        "colab": {
          "base_uri": "https://localhost:8080/"
        },
        "id": "nGfh2fyetKMs",
        "outputId": "0b493718-1b88-4022-d87f-fe2ff0bce2b4"
      },
      "execution_count": null,
      "outputs": [
        {
          "output_type": "stream",
          "name": "stdout",
          "text": [
            "2012\n",
            "1\n"
          ]
        }
      ]
    },
    {
      "cell_type": "code",
      "source": [
        "A, B = map(int,input().split())\n",
        "print(A * B)"
      ],
      "metadata": {
        "colab": {
          "base_uri": "https://localhost:8080/"
        },
        "id": "W0AqmY-TzaOc",
        "outputId": "6f6759c7-c39c-4a1a-ddde-57af13bcf332"
      },
      "execution_count": null,
      "outputs": [
        {
          "output_type": "execute_result",
          "data": {
            "text/plain": [
              "0"
            ]
          },
          "metadata": {},
          "execution_count": 56
        }
      ]
    },
    {
      "cell_type": "code",
      "source": [
        ""
      ],
      "metadata": {
        "id": "So7uwQYWzaMi"
      },
      "execution_count": null,
      "outputs": []
    }
  ]
}