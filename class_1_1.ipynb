{
 "cells": [
  {
   "cell_type": "code",
   "execution_count": null,
   "id": "54786977",
   "metadata": {},
   "outputs": [],
   "source": [
    "# class 1 1546\n",
    "\n",
    "etc = int(input())\n",
    "score = list(map(int, input().split(' ')))\n",
    "\n",
    "score.sort(reverse=True)\n",
    "       \n",
    "maximum = score[0]\n",
    "\n",
    "new_score = []\n",
    "\n",
    "for i in score:\n",
    "    new_score.append(i/maximum*100)\n",
    "    \n",
    "\n",
    "mean = sum(new_score)/len(new_score)\n",
    "\n",
    "print(mean)"
   ]
  },
  {
   "cell_type": "code",
   "execution_count": 76,
   "id": "ab22dc20",
   "metadata": {},
   "outputs": [
    {
     "name": "stdout",
     "output_type": "stream",
     "text": [
      "X\n"
     ]
    }
   ],
   "source": [
    "# calss 1 1157\n",
    "# word = str(input().split())\n",
    "\n",
    "word = ''\n",
    "\n",
    "word = word.upper()\n",
    "\n",
    "list_orgin = list(word)\n",
    "list_word = list(word)\n",
    "\n",
    "dict_count = {}\n",
    "\n",
    "\n",
    "for i in range(len(list_word)):\n",
    "    count_num = 0\n",
    "\n",
    "    if list_word[i] != None:\n",
    "\n",
    "        count_num += 1\n",
    "\n",
    "        for j in range(i+1, len(list_word)):\n",
    "\n",
    "            if list_word[i] == list_word[j]:\n",
    "\n",
    "                count_num += 1\n",
    "\n",
    "                list_word[j] = None\n",
    "\n",
    "        dict_count[i] = count_num\n",
    "\n",
    "    else:\n",
    "        pass\n",
    "\n",
    "list_value = list(dict_count.values())\n",
    "list_key = list(dict_count.keys())\n",
    "\n",
    "high = max(list_value)\n",
    "\n",
    "check = 0\n",
    "\n",
    "for i in list_value:\n",
    "    if i == high:\n",
    "        check += 1\n",
    "\n",
    "if check > 1:\n",
    "    \n",
    "    print('?')\n",
    "\n",
    "else:\n",
    "    place = list_value.index(high)\n",
    "    place2 = list_key[place]\n",
    "    print(list_orgin[place2])\n",
    "    "
   ]
  },
  {
   "cell_type": "code",
   "execution_count": null,
   "id": "c21db139",
   "metadata": {},
   "outputs": [],
   "source": [
    "# class 1 1330\n",
    "a, b = input().split(' ')\n",
    "\n",
    "a = int(a)\n",
    "b = int(b)\n",
    "\n",
    "if a > b:\n",
    "    print('>')\n",
    "elif a < b:\n",
    "    print('<')\n",
    "else:\n",
    "    print('==')"
   ]
  },
  {
   "cell_type": "code",
   "execution_count": null,
   "id": "c6a31c77",
   "metadata": {},
   "outputs": [],
   "source": [
    "# class 1 9498\n",
    "score = int(input())\n",
    "\n",
    "if score <= 100 and score >= 90:\n",
    "    print('A')\n",
    "\n",
    "elif score <= 89 and score >= 80:\n",
    "    print('B')\n",
    "\n",
    "elif score <= 79 and score >= 70:\n",
    "    print('C')\n",
    "\n",
    "elif score <= 69 and score >= 60:\n",
    "    print('D')\n",
    "\n",
    "else:\n",
    "    print('F')"
   ]
  },
  {
   "cell_type": "code",
   "execution_count": 78,
   "id": "c27ddd3b",
   "metadata": {},
   "outputs": [
    {
     "name": "stdout",
     "output_type": "stream",
     "text": [
      "*\n",
      "**\n",
      "***\n",
      "****\n",
      "*****\n"
     ]
    }
   ],
   "source": [
    "# class 1 2438\n",
    "num = int(input())\n",
    "for i in range(1, num+1):\n",
    "    print('*'*i)"
   ]
  },
  {
   "cell_type": "code",
   "execution_count": 84,
   "id": "573dbd77",
   "metadata": {},
   "outputs": [
    {
     "name": "stdout",
     "output_type": "stream",
     "text": [
      "     *\n",
      "    **\n",
      "   ***\n",
      "  ****\n",
      " *****\n",
      "******\n"
     ]
    }
   ],
   "source": [
    "# class 1 2439\n",
    "num = int(input())\n",
    "for i in range(1, num+1):\n",
    "    a = ' '*(num-i) + '*'*i\n",
    "    print(a)"
   ]
  },
  {
   "cell_type": "code",
   "execution_count": 86,
   "id": "71dd2a2e",
   "metadata": {},
   "outputs": [
    {
     "name": "stdout",
     "output_type": "stream",
     "text": [
      "2 * 1 = 2\n",
      "2 * 2 = 4\n",
      "2 * 3 = 6\n",
      "2 * 4 = 8\n",
      "2 * 5 = 10\n",
      "2 * 6 = 12\n",
      "2 * 7 = 14\n",
      "2 * 8 = 16\n",
      "2 * 9 = 18\n"
     ]
    }
   ],
   "source": [
    "# class 1 2739\n",
    "num = int(input())\n",
    "for i in range(1, 10):\n",
    "    print(f'{num} * {i} = {num*i}')"
   ]
  },
  {
   "cell_type": "code",
   "execution_count": null,
   "id": "425b29ed",
   "metadata": {},
   "outputs": [],
   "source": [
    "# class 1 2741\n",
    "num = int(input())\n",
    "for i in range(1, num+1):\n",
    "    print(i)"
   ]
  },
  {
   "cell_type": "code",
   "execution_count": null,
   "id": "3ad7d7f1",
   "metadata": {},
   "outputs": [],
   "source": [
    "# class 1 2742\n",
    "num = int(input())\n",
    "for i in range(num):\n",
    "    print(num-i)"
   ]
  },
  {
   "cell_type": "code",
   "execution_count": 109,
   "id": "75f5fae0",
   "metadata": {},
   "outputs": [
    {
     "name": "stdout",
     "output_type": "stream",
     "text": [
      "1 15\n",
      "0 30\n"
     ]
    }
   ],
   "source": [
    "# class 1 2884\n",
    "h, m = input().split(' ')\n",
    "\n",
    "h = int(h)\n",
    "m = int(m)\n",
    "\n",
    "if m < 45:\n",
    "    h = h - 1\n",
    "    m = m + 60 - 45\n",
    "\n",
    "elif m == 45:\n",
    "    m = 0\n",
    "\n",
    "else:\n",
    "    m = m - 45\n",
    "    \n",
    "    \n",
    "if h < 0:\n",
    "    h = 23\n",
    "    \n",
    "\n",
    "print(h, m)\n"
   ]
  },
  {
   "cell_type": "code",
   "execution_count": null,
   "id": "cc3c8279",
   "metadata": {},
   "outputs": [],
   "source": [
    "# class 1 10818\n",
    "etc = input()\n",
    "list_num = list(map(int, input().split(' ')))\n",
    "print(min(list_num), max(list_num))"
   ]
  },
  {
   "cell_type": "code",
   "execution_count": 114,
   "id": "9f35ef15",
   "metadata": {},
   "outputs": [
    {
     "name": "stdout",
     "output_type": "stream",
     "text": [
      "10 5\n",
      "1 10 4 9 2 3 8 5 7 6\n",
      "1423"
     ]
    }
   ],
   "source": [
    "# class 1 10871\n",
    "length, stand = input().split(' ')\n",
    "list_num = list(map(int, input().split(' ')))\n",
    "\n",
    "length = int(length)\n",
    "stand = int(stand)\n",
    "\n",
    "for i in list_num:\n",
    "    if i < stand:\n",
    "        print(i, end=' ')"
   ]
  },
  {
   "cell_type": "code",
   "execution_count": null,
   "id": "a0f6243b",
   "metadata": {},
   "outputs": [],
   "source": []
  }
 ],
 "metadata": {
  "kernelspec": {
   "display_name": "Python 3 (ipykernel)",
   "language": "python",
   "name": "python3"
  },
  "language_info": {
   "codemirror_mode": {
    "name": "ipython",
    "version": 3
   },
   "file_extension": ".py",
   "mimetype": "text/x-python",
   "name": "python",
   "nbconvert_exporter": "python",
   "pygments_lexer": "ipython3",
   "version": "3.10.2"
  }
 },
 "nbformat": 4,
 "nbformat_minor": 5
}
