{
 "cells": [
  {
   "cell_type": "code",
   "execution_count": 44,
   "id": "9f5aec63",
   "metadata": {},
   "outputs": [
    {
     "name": "stdout",
     "output_type": "stream",
     "text": [
      "70\n",
      "6\n"
     ]
    }
   ],
   "source": [
    "# class 2 2292\n",
    "count = 0\n",
    "start = 1\n",
    "end = 2\n",
    "\n",
    "num = int(input())\n",
    "\n",
    "while True:\n",
    "    \n",
    "    list_range = [i for i in range(start, end)]\n",
    "    count += 1\n",
    "    \n",
    "    if num in list_range:\n",
    "        break\n",
    "    \n",
    "    else:\n",
    "        if start == 1:\n",
    "            start = 2\n",
    "            end = 8\n",
    "        \n",
    "        else:\n",
    "            start = end\n",
    "            end = start + (6 * count) + 1\n",
    "\n",
    "print(count)"
   ]
  },
  {
   "cell_type": "code",
   "execution_count": 6,
   "id": "612e3971",
   "metadata": {},
   "outputs": [
    {
     "name": "stdout",
     "output_type": "stream",
     "text": [
      "5\n",
      "5\n",
      "4\n",
      "3\n",
      "2\n",
      "1\n",
      "1\n",
      "2\n",
      "3\n",
      "4\n",
      "5\n"
     ]
    }
   ],
   "source": [
    "# class 2 2751\n",
    "import sys\n",
    "array=[int(sys.stdin.readline().rstrip()) for i in range(int(input()))]\n",
    "array.sort()\n",
    "for i in array:\n",
    "    sys.stdout.write(str(i)+'\\n')"
   ]
  },
  {
   "cell_type": "code",
   "execution_count": 4,
   "id": "21b7d124",
   "metadata": {},
   "outputs": [
    {
     "name": "stdout",
     "output_type": "stream",
     "text": [
      "2\n",
      "1\n",
      "3\n",
      "6\n",
      "2\n",
      "3\n",
      "6\n"
     ]
    }
   ],
   "source": [
    "# class 2 2775\n",
    "\n",
    "# 층은 0부터 시작\n",
    "# 호는 1부터 시작, 각 호에는 호 번호만큼 사람이 거주\n",
    "# ex : 1층 3호 -> 0층 1호 2호 3호 => 6명\n",
    "\n",
    "i = int(input())\n",
    "count = 0\n",
    "\n",
    "while True:\n",
    "    \n",
    "    k = int(input())\n",
    "    n = int(input())\n",
    "    \n",
    "    people = [i for i in range(1, n+1)] \n",
    "    \n",
    "    people_num = sum(people)\n",
    "    \n",
    "    print(people_num)\n",
    "    \n",
    "    count += 1\n",
    "    \n",
    "    if i == count:\n",
    "        break\n",
    "    "
   ]
  },
  {
   "cell_type": "code",
   "execution_count": 22,
   "id": "3665395d",
   "metadata": {
    "scrolled": true
   },
   "outputs": [
    {
     "name": "stdout",
     "output_type": "stream",
     "text": [
      "10\n",
      "3628800\n"
     ]
    }
   ],
   "source": [
    "# 1-872\n",
    "\n",
    "n = int(input())\n",
    "\n",
    "def factor(n):\n",
    "    \n",
    "    result = 1\n",
    "    \n",
    "    if n == 0:\n",
    "        \n",
    "        pass\n",
    "    \n",
    "    else:\n",
    "        \n",
    "        for j in range(1, n+1):\n",
    "            \n",
    "            result = result * j\n",
    "        \n",
    "    return result \n",
    "\n",
    "result = factor(n)\n",
    "print(result)"
   ]
  },
  {
   "cell_type": "code",
   "execution_count": 116,
   "id": "2d8e40c3",
   "metadata": {},
   "outputs": [],
   "source": [
    "# 10870\n",
    "\n",
    "n = int(input())\n",
    "\n",
    "def f_sum(n):\n",
    "    \n",
    "    if n == 0:\n",
    "        \n",
    "        return 0\n",
    "    \n",
    "    elif n <= 2:\n",
    "        \n",
    "        return 1\n",
    "    \n",
    "    else:\n",
    "        \n",
    "        return f_sum(n-1) + f_sum(n-2)\n",
    "    \n",
    "result = f_sum(n)   \n",
    "print(result)"
   ]
  },
  {
   "cell_type": "code",
   "execution_count": 138,
   "id": "1ceccc57",
   "metadata": {},
   "outputs": [],
   "source": [
    "# 17478\n",
    "\n",
    "\n",
    "\n",
    "def qna(n):\n",
    "    \n",
    "    bar = '--'\n",
    "    \n",
    "    context_1 = '어느 한 컴퓨터공학과 학생이 유명한 교수님을 찾아가 물었다.'\n",
    "    context_2 = '\\n\"재귀함수가 뭔가요?\"'\n",
    "    context_3 = '\\n\"잘 들어보게. 옛날옛날 한 산 꼭대기에 이세상 모든 지식을 통달한 선인이 있었어.'\n",
    "    context_4 = '\\n마을 사람들은 모두 그 선인에게 수많은 질문을 했고, 모두 지혜롭게 대답해 주었지.'\n",
    "    context_5 = '\\n그의 답은 대부분 옳았다고 하네. 그런데 어느 날, 그 선인에게 한 선비가 찾아와서 물었어.\"'\n",
    "    context_6 = '\\n\"재귀함수는 자기 자신을 호출하는 함수라네\"'\n",
    "    context_7 = '\\n라고 답변하였지.'\n",
    "    \n",
    "    \n",
    "    \n",
    "    if n == 1:\n",
    "        \n",
    "        \n",
    "    \n",
    "    else:\n",
    "        return qna(1)\n",
    "    \n",
    "    "
   ]
  },
  {
   "cell_type": "code",
   "execution_count": 139,
   "id": "8e4a1c11",
   "metadata": {},
   "outputs": [
    {
     "name": "stdout",
     "output_type": "stream",
     "text": [
      "어느 한 컴퓨터공학과 학생이 유명한 교수님을 찾아가 물었다.\n",
      "\"재귀함수가 뭔가요?\"\n",
      "\"잘 들어보게. 옛날옛날 한 산 꼭대기에 이세상 모든 지식을 통달한 선인이 있었어.\n",
      "마을 사람들은 모두 그 선인에게 수많은 질문을 했고, 모두 지혜롭게 대답해 주었지.\n",
      "그의 답은 대부분 옳았다고 하네. 그런데 어느 날, 그 선인에게 한 선비가 찾아와서 물었어.\"\n"
     ]
    }
   ],
   "source": [
    "result = qna(1)\n",
    "print(result)"
   ]
  },
  {
   "cell_type": "code",
   "execution_count": null,
   "id": "0a089beb",
   "metadata": {},
   "outputs": [],
   "source": []
  }
 ],
 "metadata": {
  "kernelspec": {
   "display_name": "Python 3 (ipykernel)",
   "language": "python",
   "name": "python3"
  },
  "language_info": {
   "codemirror_mode": {
    "name": "ipython",
    "version": 3
   },
   "file_extension": ".py",
   "mimetype": "text/x-python",
   "name": "python",
   "nbconvert_exporter": "python",
   "pygments_lexer": "ipython3",
   "version": "3.9.10"
  }
 },
 "nbformat": 4,
 "nbformat_minor": 5
}
