{
 "cells": [
  {
   "cell_type": "code",
   "execution_count": 48,
   "id": "5259a429",
   "metadata": {},
   "outputs": [
    {
     "name": "stdout",
     "output_type": "stream",
     "text": [
      "3\n",
      "21 Junkyu\n",
      "21 Dohyun\n",
      "20 Sunyoung\n",
      "20 Sunyoung\n",
      "21 Junkyu\n",
      "21 Dohyun\n"
     ]
    }
   ],
   "source": [
    "# class 2 10814\n",
    "\n",
    "num = int(input())\n",
    "\n",
    "count = 0\n",
    "\n",
    "age_name_list = []\n",
    "\n",
    "seq = 0\n",
    "\n",
    "while True:\n",
    "    \n",
    "    seq += 1\n",
    "    \n",
    "    age, name = input().split()\n",
    "    \n",
    "    age_name_list.append([int(age), seq, name])\n",
    "    \n",
    "    count += 1\n",
    "    \n",
    "    if num == count:\n",
    "        break\n",
    "\n",
    "age_name_list.sort()\n",
    "\n",
    "for i in age_name_list:\n",
    "    print(i[0], i[-1])"
   ]
  },
  {
   "cell_type": "code",
   "execution_count": 21,
   "id": "8017a296",
   "metadata": {
    "scrolled": true
   },
   "outputs": [
    {
     "name": "stdout",
     "output_type": "stream",
     "text": [
      "5\n",
      "55 185\n",
      "58 183\n",
      "88 186\n",
      "60 175\n",
      "46 155\n",
      "2 2 1 2 5 "
     ]
    }
   ],
   "source": [
    "# class 2 7568\n",
    "num = int(input())\n",
    "count = 0\n",
    "\n",
    "info = []\n",
    "\n",
    "while True:\n",
    "    \n",
    "    weight, length = map(int, input().split())\n",
    "    \n",
    "    info.append([weight, length])\n",
    "    \n",
    "    count += 1\n",
    "    \n",
    "    if count == num:\n",
    "        break\n",
    "\n",
    "for i in info:\n",
    " \n",
    "    rank = 1\n",
    "    \n",
    "    for j in info:\n",
    "       \n",
    "        if i[0] < j[0] and i[1] < j[1]:\n",
    "            \n",
    "            rank += 1\n",
    "\n",
    "    print(rank, end=' ')"
   ]
  },
  {
   "cell_type": "code",
   "execution_count": 29,
   "id": "f58e5290",
   "metadata": {},
   "outputs": [
    {
     "name": "stdout",
     "output_type": "stream",
     "text": [
      "653 375 1000 1000\n"
     ]
    },
    {
     "data": {
      "text/plain": [
       "347"
      ]
     },
     "execution_count": 29,
     "metadata": {},
     "output_type": "execute_result"
    }
   ],
   "source": [
    "# class 2 1085\n",
    "x, y, w, h = map(int, input().split())\n",
    "\n",
    "\n",
    "print(min(h-y, w-x, x-0, y-0))"
   ]
  },
  {
   "cell_type": "code",
   "execution_count": 69,
   "id": "9bcc7fc7",
   "metadata": {},
   "outputs": [
    {
     "name": "stdout",
     "output_type": "stream",
     "text": [
      "5 4 3\n",
      "right\n",
      "0 0 0\n"
     ]
    }
   ],
   "source": [
    "# class 2 4153\n",
    "while True:\n",
    "    \n",
    "    list_num = list(map(int, input().split()))\n",
    "    \n",
    "    list_num.sort()\n",
    "    \n",
    "    if sum(list_num)==0:\n",
    "        \n",
    "        break\n",
    "        \n",
    "    elif list_num[0]**2 + list_num[1]**2 == list_num[2]**2:\n",
    "        \n",
    "        print(\"right\")\n",
    "        \n",
    "    else:\n",
    "        print(\"wrong\")"
   ]
  }
 ],
 "metadata": {
  "kernelspec": {
   "display_name": "Python 3 (ipykernel)",
   "language": "python",
   "name": "python3"
  },
  "language_info": {
   "codemirror_mode": {
    "name": "ipython",
    "version": 3
   },
   "file_extension": ".py",
   "mimetype": "text/x-python",
   "name": "python",
   "nbconvert_exporter": "python",
   "pygments_lexer": "ipython3",
   "version": "3.10.2"
  }
 },
 "nbformat": 4,
 "nbformat_minor": 5
}
