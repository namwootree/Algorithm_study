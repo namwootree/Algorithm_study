{
 "cells": [
  {
   "cell_type": "code",
   "execution_count": null,
   "id": "49d7c744",
   "metadata": {},
   "outputs": [],
   "source": [
    "# class 1 1008\n",
    "a, b = map(int, input().split(' '))\n",
    "\n",
    "print(a/b)"
   ]
  },
  {
   "cell_type": "code",
   "execution_count": 25,
   "id": "7e9ec2f5",
   "metadata": {
    "scrolled": true
   },
   "outputs": [
    {
     "name": "stdout",
     "output_type": "stream",
     "text": [
      "1 2 3 4 5 6 7 8 9\n",
      "9\n",
      "9\n"
     ]
    }
   ],
   "source": [
    "# class 1 2562\n",
    "list_int = []\n",
    "\n",
    "for i in range(9):\n",
    "    list_int.append(int(input()))\n",
    "\n",
    "max_num = max(list_int)\n",
    "\n",
    "print(max_num)\n",
    "print(list_int.index(max_num)+1)"
   ]
  },
  {
   "cell_type": "code",
   "execution_count": null,
   "id": "e9fcfd8e",
   "metadata": {},
   "outputs": [],
   "source": [
    "# class 1 2920\n",
    "\n",
    "list_str = list(input().split())\n",
    "\n",
    "list_int = list(map(int, list_str))\n",
    "\n",
    "if list_int.index(max(list_int)) == 7:\n",
    "    \n",
    "    for i in range(len(list_int)-1):\n",
    "        \n",
    "        if list_int[i] < list_int[i+1]:\n",
    "            \n",
    "            if i == 6:\n",
    "                print('ascending')\n",
    "        \n",
    "        else:\n",
    "            print('mixed')\n",
    "            break\n",
    "\n",
    "\n",
    "\n",
    "elif list_int.index(max(list_int)) == 0:\n",
    "    \n",
    "    for i in range(len(list_int)-1):\n",
    "        \n",
    "        if list_int[i] > list_int[i+1]:\n",
    "\n",
    "            if i == 6:\n",
    "                print('descending')\n",
    "\n",
    "        else:\n",
    "            print('mixed')\n",
    "            break\n",
    "\n",
    "\n",
    "else:\n",
    "    print('mixed')"
   ]
  },
  {
   "cell_type": "code",
   "execution_count": 53,
   "id": "ea0bdf6b",
   "metadata": {},
   "outputs": [
    {
     "name": "stdout",
     "output_type": "stream",
     "text": [
      "OOXXOXXOOO\n"
     ]
    },
    {
     "data": {
      "text/plain": [
       "['OO', '', 'O', '', 'OOO']"
      ]
     },
     "execution_count": 53,
     "metadata": {},
     "output_type": "execute_result"
    }
   ],
   "source": [
    "list_ox = list(input().split('X'))\n",
    "\n",
    "list_ox"
   ]
  },
  {
   "cell_type": "code",
   "execution_count": 64,
   "id": "109ae533",
   "metadata": {},
   "outputs": [
    {
     "data": {
      "text/plain": [
       "10"
      ]
     },
     "execution_count": 64,
     "metadata": {},
     "output_type": "execute_result"
    }
   ],
   "source": [
    "list_ox = ['OO', '', 'O', '', 'OOO']\n",
    "\n",
    "list_ox = [i for i in list_ox if i != '']\n",
    "\n",
    "score = 0\n",
    "\n",
    "for i in list_ox:\n",
    "    \n",
    "    for j in range(1, len(i)+1):\n",
    "        \n",
    "        score +=j\n",
    "        \n",
    "        \n",
    "score     "
   ]
  },
  {
   "cell_type": "code",
   "execution_count": 66,
   "id": "949e099a",
   "metadata": {},
   "outputs": [
    {
     "name": "stdout",
     "output_type": "stream",
     "text": [
      "5\n",
      "OOXXOXXOOO\n",
      "10\n",
      "OOXXOOXXOO\n",
      "9\n",
      "OXOXOXOXOXOXOX\n",
      "7\n",
      "OOOOOOOOOO\n",
      "55\n",
      "OOOOXOOOOXOOOOX\n",
      "30\n"
     ]
    }
   ],
   "source": [
    "# class 1 8958\n",
    "\n",
    "num = int(input())\n",
    "\n",
    "count = 0\n",
    "\n",
    "while True:\n",
    "    \n",
    "    list_ox = list(input().split('X'))\n",
    "    \n",
    "    list_ox = [i for i in list_ox if i != '']\n",
    "\n",
    "    score = 0\n",
    "\n",
    "    for i in list_ox:\n",
    "\n",
    "        for j in range(1, len(i)+1):\n",
    "\n",
    "            score +=j\n",
    "    \n",
    "    count += 1\n",
    "    \n",
    "    print(score)\n",
    "    \n",
    "    if count == num:\n",
    "        break"
   ]
  },
  {
   "cell_type": "code",
   "execution_count": null,
   "id": "512f8c66",
   "metadata": {},
   "outputs": [],
   "source": []
  }
 ],
 "metadata": {
  "kernelspec": {
   "display_name": "Python 3 (ipykernel)",
   "language": "python",
   "name": "python3"
  },
  "language_info": {
   "codemirror_mode": {
    "name": "ipython",
    "version": 3
   },
   "file_extension": ".py",
   "mimetype": "text/x-python",
   "name": "python",
   "nbconvert_exporter": "python",
   "pygments_lexer": "ipython3",
   "version": "3.10.2"
  }
 },
 "nbformat": 4,
 "nbformat_minor": 5
}
