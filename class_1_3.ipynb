{
  "nbformat": 4,
  "nbformat_minor": 0,
  "metadata": {
    "colab": {
      "name": "class_1_3.ipynb",
      "provenance": [],
      "authorship_tag": "ABX9TyPnrOGI+FQVGgXKmt6GxyGI",
      "include_colab_link": true
    },
    "kernelspec": {
      "name": "python3",
      "display_name": "Python 3"
    },
    "language_info": {
      "name": "python"
    }
  },
  "cells": [
    {
      "cell_type": "markdown",
      "metadata": {
        "id": "view-in-github",
        "colab_type": "text"
      },
      "source": [
        "<a href=\"https://colab.research.google.com/github/namwootree/Algorithm_study/blob/main/class_1_3.ipynb\" target=\"_parent\"><img src=\"https://colab.research.google.com/assets/colab-badge.svg\" alt=\"Open In Colab\"/></a>"
      ]
    },
    {
      "cell_type": "code",
      "execution_count": null,
      "metadata": {
        "colab": {
          "base_uri": "https://localhost:8080/"
        },
        "id": "_2RUiaM_35aj",
        "outputId": "c77f6616-b0f6-4ecd-a110-8ac5f3173509"
      },
      "outputs": [
        {
          "output_type": "stream",
          "name": "stdout",
          "text": [
            " The first character is a blank\n",
            "['The', 'first', 'character', 'is', 'a', 'blank']\n",
            "6\n"
          ]
        }
      ],
      "source": [
        "# class 1 1152\n",
        "sentence = str(input())\n",
        "\n",
        "list_sentence = sentence.strip().split()\n",
        "print(len(list_sentence))"
      ]
    },
    {
      "cell_type": "code",
      "source": [
        "# class 1 3052\n",
        "\n",
        "set_value = set()\n",
        "\n",
        "for _ in range(10):\n",
        "  num = int(input())\n",
        "\n",
        "  value = num % 42\n",
        "  set_value.add(value)\n",
        "\n",
        "print(len(set_value))"
      ],
      "metadata": {
        "colab": {
          "base_uri": "https://localhost:8080/"
        },
        "id": "tnYN9r2442rH",
        "outputId": "b82d7eb6-563f-4a2b-dd2e-b57daea460c2"
      },
      "execution_count": null,
      "outputs": [
        {
          "output_type": "stream",
          "name": "stdout",
          "text": [
            "42\n",
            "84\n",
            "252\n",
            "420\n",
            "840\n",
            "126\n",
            "42\n",
            "84\n",
            "420\n",
            "126\n",
            "1\n"
          ]
        }
      ]
    },
    {
      "cell_type": "code",
      "source": [
        "# class 1 11720\n",
        "_ = input()\n",
        "str_num = str(input())\n",
        "\n",
        "list_str = list(str_num)\n",
        "\n",
        "list_int = [int(i) for i in list_str]\n",
        "\n",
        "print(sum(list_int))"
      ],
      "metadata": {
        "colab": {
          "base_uri": "https://localhost:8080/"
        },
        "id": "IuyZTYkX6Rq8",
        "outputId": "5dcdd17b-da95-4a8f-9a25-d110892764ef"
      },
      "execution_count": null,
      "outputs": [
        {
          "output_type": "stream",
          "name": "stdout",
          "text": [
            "11\n",
            "7000000000000000000000000\n",
            "7\n"
          ]
        }
      ]
    },
    {
      "cell_type": "code",
      "source": [
        "# class 10809\n",
        "alphabet = 'abcdefghijklmnopqrstuvwxyz'\n",
        "list_alphabet = list(alphabet)\n",
        "\n",
        "word = str(input())\n",
        "list_word = list(word)\n",
        "\n",
        "for i in list_alphabet:\n",
        "\n",
        "  if i in list_word:\n",
        "    result = list_word.index(i)\n",
        "\n",
        "  else:\n",
        "    result = -1\n",
        "  \n",
        "  print(result)"
      ],
      "metadata": {
        "colab": {
          "base_uri": "https://localhost:8080/"
        },
        "id": "aGen0Nux75SS",
        "outputId": "b7588219-5f2b-4021-9065-431fe3d86119"
      },
      "execution_count": null,
      "outputs": [
        {
          "output_type": "stream",
          "name": "stdout",
          "text": [
            "baekjoon\n",
            "1\n",
            "0\n",
            "-1\n",
            "-1\n",
            "2\n",
            "-1\n",
            "-1\n",
            "-1\n",
            "-1\n",
            "4\n",
            "3\n",
            "-1\n",
            "-1\n",
            "7\n",
            "5\n",
            "-1\n",
            "-1\n",
            "-1\n",
            "-1\n",
            "-1\n",
            "-1\n",
            "-1\n",
            "-1\n",
            "-1\n",
            "-1\n",
            "-1\n"
          ]
        }
      ]
    },
    {
      "cell_type": "code",
      "source": [
        "# class 1 2908\n",
        "s1, s2 = input().split()\n",
        "\n",
        "\n",
        "list_s1 = list(reversed(list(s1)))\n",
        "list_s2 = list(reversed(list(s2)))\n",
        "\n",
        "new_s1 = ''\n",
        "new_s2 = ''\n",
        "\n",
        "for i in list_s1:\n",
        "  new_s1+=i\n",
        "\n",
        "for i in list_s2:\n",
        "  new_s2+=i\n",
        "\n",
        "print(max(int(new_s1), int(new_s2)))"
      ],
      "metadata": {
        "colab": {
          "base_uri": "https://localhost:8080/"
        },
        "id": "Dr3RYoGJ-8n-",
        "outputId": "c92607c0-3a48-489e-94dd-24ca911adaf0"
      },
      "execution_count": null,
      "outputs": [
        {
          "output_type": "stream",
          "name": "stdout",
          "text": [
            "734\n",
            "893\n",
            "437\n"
          ]
        }
      ]
    },
    {
      "cell_type": "code",
      "source": [
        "# class 1 2577\n",
        "n1 = int(input())\n",
        "n2 = int(input())\n",
        "n3 = int(input())\n",
        "\n",
        "n = n1 * n2 * n3\n",
        "\n",
        "list_n = list(str(n))\n",
        "\n",
        "for i in range(9+1):\n",
        "\n",
        "  str_i = str(i)\n",
        "  result = list_n.count(str_i)\n",
        "\n",
        "  print(result)"
      ],
      "metadata": {
        "colab": {
          "base_uri": "https://localhost:8080/"
        },
        "id": "3f8UJ3nECbqL",
        "outputId": "6ad74aba-3896-451c-c51e-9f14fbeac2b9"
      },
      "execution_count": null,
      "outputs": [
        {
          "output_type": "stream",
          "name": "stdout",
          "text": [
            "150\n",
            "266\n",
            "427\n",
            "3\n",
            "1\n",
            "0\n",
            "2\n",
            "0\n",
            "0\n",
            "0\n",
            "2\n",
            "0\n",
            "0\n"
          ]
        }
      ]
    },
    {
      "cell_type": "code",
      "source": [
        "# class 2 10773\n",
        "list_num = []\n",
        "\n",
        "for _ in range(int(input())):\n",
        "\n",
        "  num = int(input())\n",
        "\n",
        "  if num != 0:\n",
        "    list_num.append(num)\n",
        "\n",
        "  else:\n",
        "    del list_num[-1]\n",
        "\n",
        "print(sum(list_num))"
      ],
      "metadata": {
        "colab": {
          "base_uri": "https://localhost:8080/"
        },
        "id": "PfDOyrG-CjlR",
        "outputId": "ac1ed0a4-60f5-4fdf-9404-c117bfaf7b1a"
      },
      "execution_count": null,
      "outputs": [
        {
          "output_type": "stream",
          "name": "stdout",
          "text": [
            "10\n",
            "1\n",
            "3\n",
            "5\n",
            "4\n",
            "0\n",
            "0\n",
            "7\n",
            "0\n",
            "0\n",
            "6\n",
            "7\n"
          ]
        }
      ]
    },
    {
      "cell_type": "code",
      "source": [
        "# class 2 2609\n",
        "\n",
        "num_1, num_2 = map(int, input().split())\n",
        "\n",
        "num_1, num_2 = min(num_1, num_2), max(num_1, num_2)\n",
        "\n",
        "set_num_1 = set()\n",
        "set_num_2 = set()\n",
        "\n",
        "for i in range(1, num_1+1):\n",
        "\n",
        "  if num_1 % i == 0:\n",
        "\n",
        "    set_num_1.add(i)\n",
        "\n",
        "for j in range(1, num_2+1):\n",
        "\n",
        "  if num_2 % j == 0:\n",
        "\n",
        "    set_num_2.add(j)\n",
        "\n",
        "same = set_num_1 & set_num_2\n",
        "\n",
        "result_1 = max(same)\n",
        "\n",
        "print(result_1)\n",
        "\n",
        "n = 1\n",
        "\n",
        "while True:\n",
        "\n",
        "  candidate = num_2 * n\n",
        "\n",
        "  if candidate % num_1 == 0:\n",
        "\n",
        "    if candidate % num_2 == 0:\n",
        "\n",
        "      print(candidate)\n",
        "\n",
        "      break\n",
        "  \n",
        "  n += 1\n"
      ],
      "metadata": {
        "colab": {
          "base_uri": "https://localhost:8080/"
        },
        "id": "I9izRArVUMo5",
        "outputId": "74051174-d5d7-478e-a81a-1afc9b1d862c"
      },
      "execution_count": null,
      "outputs": [
        {
          "output_type": "stream",
          "name": "stdout",
          "text": [
            "24 18\n",
            "6\n",
            "72\n"
          ]
        }
      ]
    },
    {
      "cell_type": "code",
      "source": [
        "# class 2 11650\n",
        "import sys\n",
        "\n",
        "list_xy = []\n",
        "\n",
        "num = int(sys.stdin.readline())\n",
        "\n",
        "for _ in range(num):\n",
        "\n",
        "  x, y = map(int, sys.stdin.readline().split())\n",
        "\n",
        "  list_xy.append([x, y])\n",
        "\n",
        "list_xy = sorted(list_xy)\n",
        "\n",
        "for lst in list_xy:\n",
        "\n",
        "  print(lst[0], lst[-1])"
      ],
      "metadata": {
        "colab": {
          "base_uri": "https://localhost:8080/"
        },
        "id": "5ZvGI9gC6ORg",
        "outputId": "15439d8f-e3cf-4308-83ee-aa9fc629f471"
      },
      "execution_count": null,
      "outputs": [
        {
          "output_type": "stream",
          "name": "stdout",
          "text": [
            "5\n",
            "3 4\n",
            "1 1\n",
            "1 -1\n",
            "2 2\n",
            "3 3\n",
            "1 -1\n",
            "1 1\n",
            "2 2\n",
            "3 3\n",
            "3 4\n"
          ]
        }
      ]
    }
  ]
}