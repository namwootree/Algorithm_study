{
  "nbformat": 4,
  "nbformat_minor": 0,
  "metadata": {
    "colab": {
      "name": "정렬 알고리즘.ipynb",
      "provenance": [],
      "authorship_tag": "ABX9TyM5P8HWyzxye/dhBqy5B5DC",
      "include_colab_link": true
    },
    "kernelspec": {
      "name": "python3",
      "display_name": "Python 3"
    },
    "language_info": {
      "name": "python"
    }
  },
  "cells": [
    {
      "cell_type": "markdown",
      "metadata": {
        "id": "view-in-github",
        "colab_type": "text"
      },
      "source": [
        "<a href=\"https://colab.research.google.com/github/namwootree/Algorithm_study/blob/main/%EC%9D%B4%EA%B2%83%EC%9D%B4%20%EC%B7%A8%EC%97%85%EC%9D%84%20%EC%9C%84%ED%95%9C%20%EC%BD%94%EB%94%A9%20%ED%85%8C%EC%8A%A4%ED%8A%B8%EB%8B%A4%20with%20%ED%8C%8C%EC%9D%B4%EC%8D%AC/%EC%A0%95%EB%A0%AC_%EC%95%8C%EA%B3%A0%EB%A6%AC%EC%A6%98.ipynb\" target=\"_parent\"><img src=\"https://colab.research.google.com/assets/colab-badge.svg\" alt=\"Open In Colab\"/></a>"
      ]
    },
    {
      "cell_type": "markdown",
      "source": [
        "# 정렬"
      ],
      "metadata": {
        "id": "YdeejXb_GBde"
      }
    },
    {
      "cell_type": "markdown",
      "source": [
        "데이터를 특정한 기준에 따라 순선대로 나열하는 것"
      ],
      "metadata": {
        "id": "X7EVHvAVGD_4"
      }
    },
    {
      "cell_type": "markdown",
      "source": [
        "# 선택 정렬\n",
        "\n"
      ],
      "metadata": {
        "id": "-4vk8t--GcIE"
      }
    },
    {
      "cell_type": "markdown",
      "source": [
        "* 처리되지 않은 데이터 중에서 가장 작은 데이터를 선택해 맨 앞에 있는 데이터와 바꾸는 것을 반복\n",
        "* 시간 복잡도 : O(N^2)"
      ],
      "metadata": {
        "id": "MAJWbRlaIFFo"
      }
    },
    {
      "cell_type": "code",
      "execution_count": 1,
      "metadata": {
        "colab": {
          "base_uri": "https://localhost:8080/"
        },
        "id": "ekAGF6_KEJzL",
        "outputId": "926d921d-9e0e-4285-ea20-bad73c6cf3a4"
      },
      "outputs": [
        {
          "output_type": "stream",
          "name": "stdout",
          "text": [
            "[0, 1, 2, 3, 4, 5, 6, 7, 8, 9]\n"
          ]
        }
      ],
      "source": [
        "array = [7, 5, 9, 0, 3, 1, 6, 2, 4, 8]\n",
        "\n",
        "for i in range(len(array)):\n",
        "\n",
        "  min_index = i\n",
        "\n",
        "  for j in range(i + 1, len(array)):\n",
        "\n",
        "    if array[min_index] > array[j]:\n",
        "\n",
        "      min_index = j\n",
        "  \n",
        "  array[i], array[min_index] = array[min_index], array[i]\n",
        "\n",
        "print(array)"
      ]
    },
    {
      "cell_type": "markdown",
      "source": [
        "# 삽입 정렬\n",
        "\n"
      ],
      "metadata": {
        "id": "c7JNJXf3Hsk-"
      }
    },
    {
      "cell_type": "markdown",
      "source": [
        "* 처리되지 않은 데이터를 하나씩 골라 적절한 위치에 삽입\n",
        "* 시간 복잡도 : O(N^2)\n",
        "* 현재 리스트의 데이터가 거의 정렬되어 있는 상태면 매우 빠르게 작동"
      ],
      "metadata": {
        "id": "JWdkidvlIILr"
      }
    },
    {
      "cell_type": "code",
      "source": [
        "array = [7, 5, 9, 0, 3, 1, 6, 2, 4, 8]\n",
        "\n",
        "for i in range(1, len(array)):\n",
        "\n",
        "  for j in range(i, 0, -1):\n",
        "\n",
        "    if array[j] < array[j - 1]:\n",
        "\n",
        "      array[j], array[j - 1] = array[j - 1], array[j]\n",
        "\n",
        "    else:\n",
        "\n",
        "      break\n",
        "\n",
        "print(array)"
      ],
      "metadata": {
        "colab": {
          "base_uri": "https://localhost:8080/"
        },
        "id": "UkBvhfbkHWnE",
        "outputId": "b0ea10d9-a8f9-47f4-b7de-7f48d022ffdb"
      },
      "execution_count": 2,
      "outputs": [
        {
          "output_type": "stream",
          "name": "stdout",
          "text": [
            "[0, 1, 2, 3, 4, 5, 6, 7, 8, 9]\n"
          ]
        }
      ]
    },
    {
      "cell_type": "markdown",
      "source": [
        "# 퀵 정렬"
      ],
      "metadata": {
        "id": "P8nc_g_UJ2g9"
      }
    },
    {
      "cell_type": "markdown",
      "source": [
        "* 기준 데이터를 설정하고 그 기준보다 큰 데이터와 작은 데이터의 위치를 바꾸는 방법\n",
        "* 평균적인 시간 복잡도 : O(NlogN)"
      ],
      "metadata": {
        "id": "em97VLV4J4Zb"
      }
    },
    {
      "cell_type": "code",
      "source": [
        "array = [5, 7, 9, 0, 3, 1, 6, 2, 4, 8]\n",
        "\n",
        "def quick_sort(array, start, end):\n",
        "\n",
        "  # 원소가 1개인 경우 종료\n",
        "  if start >= end:\n",
        "\n",
        "    return\n",
        "  \n",
        "  # 피벗은 첫 번째 요소\n",
        "  pivot = start\n",
        "  left = start + 1\n",
        "  right = end\n",
        "\n",
        "  while (left <= right):\n",
        "\n",
        "    # 피벗보다 큰 데이터를 찾을 때까지 반복\n",
        "    while (left <= end and array[left] <= array[pivot]):\n",
        "\n",
        "      left += 1\n",
        "\n",
        "    # 피벗보다 작은 데이터를 찾을 때까지 반복\n",
        "    while (right > start and array[right] >= array[pivot]):\n",
        "\n",
        "      right -= 1\n",
        "\n",
        "    # 엇갈렸다면 작은 데이터와 피벗을 교체\n",
        "    if (left > right):\n",
        "\n",
        "      array[right], array[pivot] = array[pivot], array[right]\n",
        "\n",
        "    # 엇갈리지 않았다면 작은 데이터와 큰 데이터를 교체\n",
        "    else:\n",
        "\n",
        "      array[left], array[right] = array[right], array[left]\n",
        "  \n",
        "  # 분할 이후 왼쪽 부분과 오른쪽 부분에서 각각 정렬 수행\n",
        "  quick_sort(array, start, right-1)\n",
        "  quick_sort(array, right+1, end)\n",
        "\n",
        "quick_sort(array, 0, len(array)-1)\n",
        "print(array)"
      ],
      "metadata": {
        "colab": {
          "base_uri": "https://localhost:8080/"
        },
        "id": "KU_4Ps5_Iuer",
        "outputId": "15215bba-d7ce-4263-f337-661442bcaaab"
      },
      "execution_count": 3,
      "outputs": [
        {
          "output_type": "stream",
          "name": "stdout",
          "text": [
            "[0, 1, 2, 3, 4, 5, 6, 7, 8, 9]\n"
          ]
        }
      ]
    },
    {
      "cell_type": "markdown",
      "source": [
        "# 계수 정렬"
      ],
      "metadata": {
        "id": "WgCdLMENM4o5"
      }
    },
    {
      "cell_type": "markdown",
      "source": [
        "* 특정한 조건이 부합할 때만 사용할 수 있지만 매우 빠르게 동작\n",
        "* 최악의 경우에도 시간 복자도 : O(N + K)"
      ],
      "metadata": {
        "id": "KsDhLYsRM5x8"
      }
    },
    {
      "cell_type": "code",
      "source": [
        "array = [7, 5, 9, 0, 3, 1, 6, 2, 9, 1, 4, 8, 0, 5, 2]\n",
        "\n",
        "count = [0] * (max(array) + 1)\n",
        "\n",
        "for i in range(len(array)):\n",
        "\n",
        "  count[array[i]] += 1\n",
        "\n",
        "for i in range(len(count)):\n",
        "\n",
        "  for j in range(count[i]):\n",
        "\n",
        "    print(i, end=' ')"
      ],
      "metadata": {
        "colab": {
          "base_uri": "https://localhost:8080/"
        },
        "id": "3aZCrddTL7FL",
        "outputId": "1fa68b0a-3d81-48a7-a5d1-c9c0927f5c84"
      },
      "execution_count": 4,
      "outputs": [
        {
          "output_type": "stream",
          "name": "stdout",
          "text": [
            "0 0 1 1 2 2 3 4 5 5 6 7 8 9 9 "
          ]
        }
      ]
    },
    {
      "cell_type": "code",
      "source": [
        ""
      ],
      "metadata": {
        "id": "iiSaeZv6OPpv"
      },
      "execution_count": null,
      "outputs": []
    }
  ]
}