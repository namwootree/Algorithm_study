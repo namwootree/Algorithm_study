{
  "nbformat": 4,
  "nbformat_minor": 0,
  "metadata": {
    "colab": {
      "name": "그리드 & 구현.ipynb",
      "provenance": [],
      "authorship_tag": "ABX9TyNUJihv61f2q2EHXklRN+mf",
      "include_colab_link": true
    },
    "kernelspec": {
      "name": "python3",
      "display_name": "Python 3"
    },
    "language_info": {
      "name": "python"
    }
  },
  "cells": [
    {
      "cell_type": "markdown",
      "metadata": {
        "id": "view-in-github",
        "colab_type": "text"
      },
      "source": [
        "<a href=\"https://colab.research.google.com/github/namwootree/Algorithm_study/blob/main/%EC%9D%B4%EA%B2%83%EC%9D%B4%20%EC%B7%A8%EC%97%85%EC%9D%84%20%EC%9C%84%ED%95%9C%20%EC%BD%94%EB%94%A9%20%ED%85%8C%EC%8A%A4%ED%8A%B8%EB%8B%A4%20with%20%ED%8C%8C%EC%9D%B4%EC%8D%AC/%EA%B7%B8%EB%A6%AC%EB%93%9C_%26_%EA%B5%AC%ED%98%84.ipynb\" target=\"_parent\"><img src=\"https://colab.research.google.com/assets/colab-badge.svg\" alt=\"Open In Colab\"/></a>"
      ]
    },
    {
      "cell_type": "markdown",
      "source": [
        "# 그리디 알고리즘"
      ],
      "metadata": {
        "id": "ecpSj3muRMhT"
      }
    },
    {
      "cell_type": "markdown",
      "source": [
        "* 현재 상황에서 지금 당장 좋은 것만 고르는 방법\n",
        "* 단순히 가장 좋아 보이는 것을 반복적으로 선택해도 최적의 해를 구할 수 있는 검토해야 함"
      ],
      "metadata": {
        "id": "RMNm6oe5RODb"
      }
    },
    {
      "cell_type": "markdown",
      "source": [
        "* 일반적인 상황에서 그리디 알고리즘은 최적의 해를 보장 X\n",
        "* 코딩 테스트에서의 대부분의 그리디 문제는 탐욕법으로 얻은 해가 최적의 해가 되는 상황에서, 이를 추를 할 수 있어야 풀림\n"
      ],
      "metadata": {
        "id": "lICmcH_0R-6j"
      }
    },
    {
      "cell_type": "code",
      "execution_count": 1,
      "metadata": {
        "colab": {
          "base_uri": "https://localhost:8080/"
        },
        "id": "BA5IsvGVRIKG",
        "outputId": "7d6183b2-d951-436b-8821-5aa209fad3ea"
      },
      "outputs": [
        {
          "output_type": "stream",
          "name": "stdout",
          "text": [
            "6\n"
          ]
        }
      ],
      "source": [
        "n = 2600\n",
        "count = 0\n",
        "\n",
        "# O(k)\n",
        "array = [500, 100, 50, 10]\n",
        "\n",
        "for coin in array:\n",
        "\n",
        "  count += n // coin\n",
        "  n %= coin\n",
        "\n",
        "print(count)"
      ]
    },
    {
      "cell_type": "markdown",
      "source": [
        "# 문제"
      ],
      "metadata": {
        "id": "INcAdRBJVj4b"
      }
    },
    {
      "cell_type": "markdown",
      "source": [
        "어떠한 수 N이 1이 될 때까지 다음 두 과정 중 하나를 반복적으로 선택하여 수행하려고 합니다. 단, 두번째 연산은 N이 k로 나누어 떨어질 때만 선택할 수 있습니다.\n",
        "1. N에서 1을 뺍니다\n",
        "2. N을 k로 나눕니다\n",
        "\n",
        "N과 k과 주어질 때 N이 1이 될 때까지 1번 혹은 2번의 과정을 수행해야 하는 최소 횟수를 구하는 프로그램을 작성하시오"
      ],
      "metadata": {
        "id": "HK7zbqP3TqjM"
      }
    },
    {
      "cell_type": "code",
      "source": [
        "n, k = map(int, input().split())\n",
        "\n",
        "count = 0\n",
        "\n",
        "while True:\n",
        "\n",
        "  if n % k == 0:\n",
        "\n",
        "    if n % k == 0:\n",
        "\n",
        "      n = n // k\n",
        "      count += 1\n",
        "    \n",
        "    else:\n",
        "\n",
        "      n = n-1\n",
        "      count += 1\n",
        "  \n",
        "  else:\n",
        "    n = n-1\n",
        "    count += 1\n",
        "  \n",
        "  if n == 1:\n",
        "    break\n",
        "\n",
        "print(count)"
      ],
      "metadata": {
        "colab": {
          "base_uri": "https://localhost:8080/"
        },
        "id": "wlgf16S6TUah",
        "outputId": "7fd5d3f9-786f-40bb-9ac3-4cc201306068"
      },
      "execution_count": 7,
      "outputs": [
        {
          "output_type": "stream",
          "name": "stdout",
          "text": [
            "25\n",
            "3\n",
            "6\n"
          ]
        }
      ]
    },
    {
      "cell_type": "code",
      "source": [
        "# N, K공백을 기준으로 구분하여 입력 받기\n",
        "n, k = map(int, input().split())\n",
        "\n",
        "result = 0\n",
        "\n",
        "while True:\n",
        "    # N이 K로 나누어 떨어지는 수가 될 때까지만 1씩 빼기\n",
        "    target = (n // k) * k\n",
        "    result += (n - target)\n",
        "    n = target\n",
        "    # N이 K보다 작을 때 (더 이상 나눌 수 없을 때) 반복문 탈출\n",
        "    if n < k:\n",
        "        break\n",
        "    # K로 나누기\n",
        "    result += 1\n",
        "    n //= k\n",
        "\n",
        "# 마지막으로 남은 수에 대하여 1씩 빼기\n",
        "result += (n - 1)\n",
        "print(result)"
      ],
      "metadata": {
        "id": "Sxd0T-POU2CL"
      },
      "execution_count": 6,
      "outputs": []
    },
    {
      "cell_type": "markdown",
      "source": [
        "각 자리가 숫자(0~9)로만 이루어진 문자열S가 주어졌을 때, 왼쪽부터 오른쪽으로 하나씩 모든 숫자를 확인하며 숫자 사이에 * 혹은 + 연산자를 넣어 결과적으로 만들어질 수 있는 가장 큰 수를 구하는 프로그램을 작성하세요\n",
        "단, +보다 *를 먼저를 계산하는 일반적인 방식과는 달리 모든 연산은 왼쪽에서부터 순서대로 이루어진다고 가정"
      ],
      "metadata": {
        "id": "Yg3uHx1JWhrH"
      }
    },
    {
      "cell_type": "code",
      "source": [
        "data = input()\n",
        "\n",
        "result = int(data[0])\n",
        "\n",
        "for i in range(1, len(data)):\n",
        "\n",
        "  num = int(data[i])\n",
        "\n",
        "  if num <= 1 or result <= 1:\n",
        "\n",
        "    result += num\n",
        "\n",
        "  else:\n",
        "    result *= num\n",
        "\n",
        "print(result)"
      ],
      "metadata": {
        "colab": {
          "base_uri": "https://localhost:8080/"
        },
        "id": "NhURaUQbW9FR",
        "outputId": "d16eb061-a21d-4c37-9b1c-eac0ace9d759"
      },
      "execution_count": 33,
      "outputs": [
        {
          "output_type": "stream",
          "name": "stdout",
          "text": [
            "02984\n",
            "576\n"
          ]
        }
      ]
    },
    {
      "cell_type": "markdown",
      "source": [
        "한 마을에 모험가 N명이 있습니다. 모험가 길드에서는 N명의 모험가를 대상으로 '공포도'를 측정했든데, '공포도'가 높은 모험가는 쉽게 공포를 느껴 위험 상황에서 제대로 대처할 능력이 떨어집니다.\n",
        "\n",
        "그래서 공포도가 X인 모험가는 반드시 X명 이상으로 구성한 모험가 그룹에 참여해야 모험을 떠날 수 있습니다.\n",
        "\n",
        "N명의 모험가에 대한 정보가 주어졌을 때, 모험을 떠날 수 있는 그룹의 수 최댓값을 구하는 프로그램을 작성하시오"
      ],
      "metadata": {
        "id": "1xFwdjGPdiUX"
      }
    },
    {
      "cell_type": "code",
      "source": [
        "n = int(input())\n",
        "\n",
        "data = list(map(int, input().split()))\n",
        "data.sort()\n",
        "\n",
        "result = 0\n",
        "count = 0\n",
        "\n",
        "for i in data:\n",
        "\n",
        "  count += 1\n",
        "\n",
        "  if count >= i:\n",
        "\n",
        "    result += 1\n",
        "    count = 0\n",
        "\n",
        "print(result)"
      ],
      "metadata": {
        "id": "3ILdBCN9eD3c"
      },
      "execution_count": null,
      "outputs": []
    },
    {
      "cell_type": "markdown",
      "source": [
        "# 구현"
      ],
      "metadata": {
        "id": "Y3KYuYPrhF5X"
      }
    },
    {
      "cell_type": "markdown",
      "source": [
        "머릿속에 있는 알고리즘을 소스코드로 바꾸는 과정"
      ],
      "metadata": {
        "id": "gAyrR6_ohHQG"
      }
    },
    {
      "cell_type": "markdown",
      "source": [
        "* 알고리즘은 간단한데 코드가 지나칠 만큼 길어지는 문제\n",
        "* 실수 연산을 다루고, 특정 소수점 자리까지 출력해야 하는 문제\n",
        "* 문자열을 특정한 기준에 따라서 끊어 처리해야 하는 문제\n",
        "* 적절한 라이브러리를 찾아서 사용해야 하는 문제"
      ],
      "metadata": {
        "id": "PWJyoNhKhQpb"
      }
    },
    {
      "cell_type": "markdown",
      "source": [
        "# 문제"
      ],
      "metadata": {
        "id": "G5OIcN6miRub"
      }
    },
    {
      "cell_type": "markdown",
      "source": [
        "정수 N이 입력되면 00시 00분 00초부터 N시 59분 59초까지의 모든 시각 중에서 3이 하나라도 포함되는 머도는 경우의 수를 구하는 프로그램을 작성하시오"
      ],
      "metadata": {
        "id": "dFTK23GcjdbA"
      }
    },
    {
      "cell_type": "markdown",
      "source": [
        "**완전 탐색**\n",
        "* 가능한 경우의 수를 모두 검사해보는 탐색 방법"
      ],
      "metadata": {
        "id": "yRbbl60wkZdQ"
      }
    },
    {
      "cell_type": "code",
      "source": [
        "N = int(input())\n",
        "count = 0\n",
        "\n",
        "for hour in range(N, 12+1):\n",
        "\n",
        "  for minute in range(0, 60):\n",
        "\n",
        "    for second in range(0, 60):\n",
        "\n",
        "      if '3' in str(hour) + str(minute) + str(second):\n",
        "\n",
        "         count += 1\n",
        "\n",
        "print(count)"
      ],
      "metadata": {
        "id": "Sfy9uRCchGvV"
      },
      "execution_count": null,
      "outputs": []
    },
    {
      "cell_type": "markdown",
      "source": [
        "행복 왕국의 왕실 정원은 체스판과 같은 8 * 8 좌표 평면이다\n",
        "\n",
        "왕실 정원의 특정한 한 칸에 나이트가 서있습니다. 나이트는 말을 타고 있기 때문에 이동을 할 때는 L행태로만 이동할 수 있으며 정원 밖으로는 나갈 수 없습니다\n",
        "\n",
        "나이트는 특정 위칭서 다음의 2가지 경우로 이동할 수 있습니다\n",
        "* 수평으로 두 칸 이동한 뒤에 수직으로 한 칸 이동하기\n",
        "* 수직으로 두 칸 이동한 뒤에 수평으로 한 칸 이동하기"
      ],
      "metadata": {
        "id": "_ZF-5WBMkjeV"
      }
    },
    {
      "cell_type": "code",
      "source": [
        "input_data = input()\n",
        "\n",
        "row = int(input_data[1])\n",
        "column = int(ord(input_data[0])) - int(ord('a')) + 1\n",
        "\n",
        "steps = [(-2, -1),\n",
        "         (-1, -2),\n",
        "         (1, -2),\n",
        "         (2, -1),\n",
        "         (2, 1),\n",
        "         (1, 2),\n",
        "         (-1, 2),\n",
        "         (-2, 1)]\n",
        "\n",
        "result = 0\n",
        "\n",
        "for step in steps:\n",
        "\n",
        "  next_row = row + step[0]\n",
        "  next_column = column + step[1]\n",
        "\n",
        "  if next_row >= 1 and next_row <=8 and next_column >= 1 and next_column <= 0:\n",
        "\n",
        "    result += 1\n",
        "\n",
        "print(result)"
      ],
      "metadata": {
        "id": "xk3EihEok-eh"
      },
      "execution_count": null,
      "outputs": []
    },
    {
      "cell_type": "markdown",
      "source": [
        "알파벳 대문자와 숫자(0~9)로만 구성된 문자열이 입력으로 주어집니다\n",
        "\n",
        "이때 모든 알파벳을 오름차순으로 정렬하여 이어서 출력한 뒤에, 그 뒤에 모든 숫자를 더한 값을 이어서 출력합니다"
      ],
      "metadata": {
        "id": "3CvAqHiLl5dt"
      }
    },
    {
      "cell_type": "code",
      "source": [
        "string = str(input())\n",
        "\n",
        "list_str = list(string)\n",
        "\n",
        "result = []\n",
        "sum = 0\n",
        "\n",
        "for s in list_str:\n",
        "\n",
        "  try:\n",
        "    s = int(s)\n",
        "    sum += s\n",
        "  \n",
        "  except:\n",
        "\n",
        "    s = str(s)\n",
        "    result.append(s)\n",
        "\n",
        "result.sort()\n",
        "\n",
        "if sum != 0:\n",
        "\n",
        "  print(''.join(result)+str(sum))\n",
        "\n",
        "\n",
        "else:\n",
        "  print(''.join(result))\n"
      ],
      "metadata": {
        "colab": {
          "base_uri": "https://localhost:8080/"
        },
        "id": "r_cpZYuMmItR",
        "outputId": "738d6291-6e59-4848-beeb-738996e6e2d0"
      },
      "execution_count": 42,
      "outputs": [
        {
          "output_type": "stream",
          "name": "stdout",
          "text": [
            "AJKDLSI412K4JSJ9D\n",
            "ADDIJJJKKLSS20\n"
          ]
        }
      ]
    },
    {
      "cell_type": "code",
      "source": [
        "data = input()\n",
        "result = []\n",
        "value = 0\n",
        "\n",
        "for x in data:\n",
        "  if x.isalpha():\n",
        "    result.append(x)\n",
        "\n",
        "  else:\n",
        "    value += int(x)\n",
        "\n",
        "result.sort()\n",
        "\n",
        "if value != 0:\n",
        "\n",
        "  result.append(str(value))\n",
        "\n",
        "print(''.join(result))"
      ],
      "metadata": {
        "id": "05nPuQ-rnBkQ"
      },
      "execution_count": null,
      "outputs": []
    }
  ]
}