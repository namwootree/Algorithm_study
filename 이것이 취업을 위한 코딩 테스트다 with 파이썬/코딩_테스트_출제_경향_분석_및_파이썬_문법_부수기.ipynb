{
  "nbformat": 4,
  "nbformat_minor": 0,
  "metadata": {
    "colab": {
      "name": "코딩 테스트 출제 경향 분석 및 파이썬 문법 부수기.ipynb",
      "provenance": [],
      "authorship_tag": "ABX9TyN6Bt1/AJ4G4JKAvNr77hyI",
      "include_colab_link": true
    },
    "kernelspec": {
      "name": "python3",
      "display_name": "Python 3"
    },
    "language_info": {
      "name": "python"
    }
  },
  "cells": [
    {
      "cell_type": "markdown",
      "metadata": {
        "id": "view-in-github",
        "colab_type": "text"
      },
      "source": [
        "<a href=\"https://colab.research.google.com/github/namwootree/Algorithm_study/blob/main/%EC%9D%B4%EA%B2%83%EC%9D%B4%20%EC%B7%A8%EC%97%85%EC%9D%84%20%EC%9C%84%ED%95%9C%20%EC%BD%94%EB%94%A9%20%ED%85%8C%EC%8A%A4%ED%8A%B8%EB%8B%A4%20with%20%ED%8C%8C%EC%9D%B4%EC%8D%AC/%EC%BD%94%EB%94%A9_%ED%85%8C%EC%8A%A4%ED%8A%B8_%EC%B6%9C%EC%A0%9C_%EA%B2%BD%ED%96%A5_%EB%B6%84%EC%84%9D_%EB%B0%8F_%ED%8C%8C%EC%9D%B4%EC%8D%AC_%EB%AC%B8%EB%B2%95_%EB%B6%80%EC%88%98%EA%B8%B0.ipynb\" target=\"_parent\"><img src=\"https://colab.research.google.com/assets/colab-badge.svg\" alt=\"Open In Colab\"/></a>"
      ]
    },
    {
      "cell_type": "markdown",
      "source": [
        "# 알고리즘 성능"
      ],
      "metadata": {
        "id": "zVGEP0CXaDLF"
      }
    },
    {
      "cell_type": "markdown",
      "source": [
        "**복잡도**\n",
        "\n",
        "* 시간 복잡도 : 특정한 크기의 입력에 대하여 알고리즘의 수행 시간 분석\n",
        "* 공간 복잡도 : 특정한 크기의 입력에 대하여 알고리즘의 메모리 사용량 분석\n",
        "\n",
        "**빅오 표기법 (Big - O Notation)**\n",
        "\n",
        "* 가장 빠르게 증가하는 항만을 고려하는 표기법"
      ],
      "metadata": {
        "id": "YMH8ec68aE-5"
      }
    },
    {
      "cell_type": "markdown",
      "source": [
        "일반적으로 CPU 기반의 개인 컴퓨터나 채점용 컴퓨터에서 연산 횟수가 5억을 넘어가는 경우:\n",
        "\n",
        "* Python 기준으로 5 ~ 15초 가량의 시간이 소요\n",
        "* PyPY의 경우 때때로 C언어보다도 빠르게 동작\n",
        "* 코딩 테스트에서 시간제한은 통상 1~5초가량이라는 점을 유의"
      ],
      "metadata": {
        "id": "Xcdr0HclbzAR"
      }
    },
    {
      "cell_type": "markdown",
      "source": [
        "문제에서 가장 먼저 확인해야 하는 내용은 **시간제한**입니다\n",
        "\n",
        "시간제한이 1초인 문제를 만났을 때, 일반적인 기준:\n",
        "* N의 범위가 500인 경우 : O(N^3) 알고리즘 설계\n",
        "* N의 범위가 2,000인 경우 : O(N^2) 알고리즘 설계\n",
        "* N의 범위가 100,000인 경우 : O(NlogN) 알고리즘 설계\n",
        "* N의 범위가 10,000,000인 경우 : O(N) 알고리즘 설계"
      ],
      "metadata": {
        "id": "_vEUL2gzcajj"
      }
    },
    {
      "cell_type": "markdown",
      "source": [
        "**문제 해결 과정**\n",
        "\n",
        "1. 지문 읽기 및 컴퓨터적 사고\n",
        "2. 요구사항(복잡도) 분석\n",
        "3. 문제 해결을 위한 아이디어 찾기\n",
        "4. 소스코드 설계 및 코딩\n",
        "\n",
        "일반적으로 대부분의 문제 출제자들을 핵심 아이디어를 캐치한다면, 간결하게 소스코드를 작성할 수 있는 형태로 문제를 출제"
      ],
      "metadata": {
        "id": "_5LuLI7XdH9P"
      }
    },
    {
      "cell_type": "code",
      "execution_count": 1,
      "metadata": {
        "colab": {
          "base_uri": "https://localhost:8080/"
        },
        "id": "orf29Rj5XKaz",
        "outputId": "afbab428-cb28-49af-b6fd-dd0b178e57c8"
      },
      "outputs": [
        {
          "output_type": "stream",
          "name": "stdout",
          "text": [
            "15\n"
          ]
        }
      ],
      "source": [
        "# N = 5\n",
        "array = [1, 2, 3, 4, 5]\n",
        "summary = 0\n",
        "\n",
        "# 모든 데이터를 하나씩 확인하며 합계를 계산\n",
        "for x in array:\n",
        "  summary += x\n",
        "\n",
        "print(summary)\n",
        "\n",
        "# 수행 시간은 데이터의 개수 N에 비례함"
      ]
    },
    {
      "cell_type": "code",
      "source": [
        "# N = 5\n",
        "array = [1, 2, 3, 4, 5]\n",
        "\n",
        "# 2중 반목문\n",
        "for i in array:\n",
        "  for j in array:\n",
        "\n",
        "    temp = i * j\n",
        "    print(temp, end=' ')\n",
        "\n",
        "# 시간 복잡도 : O(N^2)\n"
      ],
      "metadata": {
        "colab": {
          "base_uri": "https://localhost:8080/"
        },
        "id": "uHCAXT-ybXQw",
        "outputId": "80893f29-7aa9-4f27-faae-a3b8253e9c40"
      },
      "execution_count": 3,
      "outputs": [
        {
          "output_type": "stream",
          "name": "stdout",
          "text": [
            "1 2 3 4 5 2 4 6 8 10 3 6 9 12 15 4 8 12 16 20 5 10 15 20 25 "
          ]
        }
      ]
    },
    {
      "cell_type": "code",
      "source": [
        "import time\n",
        "\n",
        "# 측정 시작\n",
        "start_time = time.time() \n",
        "\n",
        "# 프로그램 소스 코드\n",
        "\n",
        "# 측정 종료\n",
        "end_time = time.time()\n",
        "\n",
        "# 수행 시간 출력\n",
        "print('time : ', end_time - start_time)"
      ],
      "metadata": {
        "colab": {
          "base_uri": "https://localhost:8080/"
        },
        "id": "dy8LaZTfbpiv",
        "outputId": "75a06e8d-493f-4436-f7ce-470b3a127625"
      },
      "execution_count": 4,
      "outputs": [
        {
          "output_type": "stream",
          "name": "stdout",
          "text": [
            "time :  2.09808349609375e-05\n"
          ]
        }
      ]
    },
    {
      "cell_type": "markdown",
      "source": [
        "# 표준 라이브러리"
      ],
      "metadata": {
        "id": "mo8BhleNvlio"
      }
    },
    {
      "cell_type": "markdown",
      "source": [
        "* itertools : 반복되는 형태의 데이터를 처리 (순열과 조합)\n",
        "* heapq : 힙 자료구조를 제공 (우선순위 큐 기능 구현)\n",
        "* bisect : 이진 탐색\n",
        "* collections : 덱, 카운터 등의 자료구조를 포함\n",
        "* math : 필수적인 수학적 기능을 제공"
      ],
      "metadata": {
        "id": "nObZxAtPvoCf"
      }
    },
    {
      "cell_type": "code",
      "source": [
        "sum_result = sum([1, 2, 3, 4])\n",
        "print(sum_result)\n",
        "\n",
        "min_result, max_result = min([1, 2, 3, 4]), max([1, 2, 3, 4])\n",
        "print(min_result, max_result)\n",
        "\n",
        "eval_result = eval('(3+5)*7')\n",
        "print(eval_result)"
      ],
      "metadata": {
        "colab": {
          "base_uri": "https://localhost:8080/"
        },
        "id": "uvDVw3VIu9-1",
        "outputId": "0a88279e-c4a7-4907-89cb-d693976b8088"
      },
      "execution_count": 5,
      "outputs": [
        {
          "output_type": "stream",
          "name": "stdout",
          "text": [
            "10\n",
            "1 4\n",
            "56\n"
          ]
        }
      ]
    },
    {
      "cell_type": "code",
      "source": [
        "sorted_result = sorted([3, 2, 1, 4, 5])\n",
        "resverse_result = sorted([3, 2, 1, 4, 5], reverse=True)\n",
        "\n",
        "print(sorted_result)\n",
        "print(resverse_result)"
      ],
      "metadata": {
        "colab": {
          "base_uri": "https://localhost:8080/"
        },
        "id": "prw_2FFewdyh",
        "outputId": "a9165b67-8906-46ae-bc07-02efab88552c"
      },
      "execution_count": 6,
      "outputs": [
        {
          "output_type": "stream",
          "name": "stdout",
          "text": [
            "[1, 2, 3, 4, 5]\n",
            "[5, 4, 3, 2, 1]\n"
          ]
        }
      ]
    },
    {
      "cell_type": "code",
      "source": [
        "# 조합\n",
        "from itertools import permutations\n",
        "\n",
        "data = ['A', 'B', 'C']\n",
        "\n",
        "result = list(permutations(data, 3))\n",
        "print(result)"
      ],
      "metadata": {
        "colab": {
          "base_uri": "https://localhost:8080/"
        },
        "id": "16MIAGSnw12J",
        "outputId": "897a7c30-623b-4dd1-a5fb-3b7701041205"
      },
      "execution_count": 9,
      "outputs": [
        {
          "output_type": "stream",
          "name": "stdout",
          "text": [
            "[('A', 'B', 'C'), ('A', 'C', 'B'), ('B', 'A', 'C'), ('B', 'C', 'A'), ('C', 'A', 'B'), ('C', 'B', 'A')]\n"
          ]
        }
      ]
    },
    {
      "cell_type": "code",
      "source": [
        "# 조합 \n",
        "from itertools import combinations\n",
        "\n",
        "data = ['A', 'B', 'C']\n",
        "\n",
        "result = list(combinations(data, 2))\n",
        "print(result)"
      ],
      "metadata": {
        "colab": {
          "base_uri": "https://localhost:8080/"
        },
        "id": "RGKv0wuTxYKn",
        "outputId": "cef04719-02d3-4443-e506-ba3ac9e29d22"
      },
      "execution_count": 11,
      "outputs": [
        {
          "output_type": "stream",
          "name": "stdout",
          "text": [
            "[('A', 'B'), ('A', 'C'), ('B', 'C')]\n"
          ]
        }
      ]
    },
    {
      "cell_type": "code",
      "source": [
        "# 중복 순열\n",
        "from itertools import product\n",
        "\n",
        "data = ['A', 'B', 'C']\n",
        "\n",
        "result = list(product(data, repeat=2))\n",
        "print(result)"
      ],
      "metadata": {
        "colab": {
          "base_uri": "https://localhost:8080/"
        },
        "id": "nlifyWirxoRn",
        "outputId": "77b7f78b-163d-4f9c-dbda-10351303ad99"
      },
      "execution_count": 12,
      "outputs": [
        {
          "output_type": "stream",
          "name": "stdout",
          "text": [
            "[('A', 'A'), ('A', 'B'), ('A', 'C'), ('B', 'A'), ('B', 'B'), ('B', 'C'), ('C', 'A'), ('C', 'B'), ('C', 'C')]\n"
          ]
        }
      ]
    },
    {
      "cell_type": "code",
      "source": [
        "# 중복 조합\n",
        "from itertools import combinations_with_replacement\n",
        "\n",
        "data = ['A', 'B', 'C']\n",
        "\n",
        "result = list(combinations_with_replacement(data, 2))\n",
        "print(result)"
      ],
      "metadata": {
        "colab": {
          "base_uri": "https://localhost:8080/"
        },
        "id": "dG_UDw94x4yV",
        "outputId": "2502ecce-4100-4139-a371-5e80b5c01be5"
      },
      "execution_count": 13,
      "outputs": [
        {
          "output_type": "stream",
          "name": "stdout",
          "text": [
            "[('A', 'A'), ('A', 'B'), ('A', 'C'), ('B', 'B'), ('B', 'C'), ('C', 'C')]\n"
          ]
        }
      ]
    },
    {
      "cell_type": "code",
      "source": [
        "# 등장 횟수를 세기\n",
        "from collections import Counter\n",
        "\n",
        "counter = Counter(['red', 'blue', 'red', 'green', 'blue', 'blue'])\n",
        "\n",
        "print(counter['blue'])\n",
        "print(counter['green'])\n",
        "print(dict(counter))"
      ],
      "metadata": {
        "colab": {
          "base_uri": "https://localhost:8080/"
        },
        "id": "fyz21v1myDCV",
        "outputId": "46a5cd3a-fd46-4243-aeb8-3b8018f31c8c"
      },
      "execution_count": 14,
      "outputs": [
        {
          "output_type": "stream",
          "name": "stdout",
          "text": [
            "3\n",
            "1\n",
            "{'red': 2, 'blue': 3, 'green': 1}\n"
          ]
        }
      ]
    },
    {
      "cell_type": "code",
      "source": [
        "# 최소 공배수 / 최대 공약수\n",
        "\n",
        "import math\n",
        "\n",
        "# 최소 공배수\n",
        "def lcm(a, b):\n",
        "  return a * b // math.gcd(a, b)\n",
        "\n",
        "# 최대 공약수 \n",
        "print(math.gcd(21, 14))\n",
        "# 최소 공배수\n",
        "print(lcm(21, 14))"
      ],
      "metadata": {
        "colab": {
          "base_uri": "https://localhost:8080/"
        },
        "id": "sKMQBs2Wy1pA",
        "outputId": "8bf060b3-b9b7-4ce2-a999-8a4b1bcc8147"
      },
      "execution_count": 16,
      "outputs": [
        {
          "output_type": "stream",
          "name": "stdout",
          "text": [
            "7\n",
            "42\n"
          ]
        }
      ]
    }
  ]
}