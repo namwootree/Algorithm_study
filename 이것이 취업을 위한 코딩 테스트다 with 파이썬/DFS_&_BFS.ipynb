{
  "nbformat": 4,
  "nbformat_minor": 0,
  "metadata": {
    "colab": {
      "name": "DFS & BFS.ipynb",
      "provenance": [],
      "collapsed_sections": [],
      "authorship_tag": "ABX9TyNpyKxoxM+XU4lm+P5uAx+s",
      "include_colab_link": true
    },
    "kernelspec": {
      "name": "python3",
      "display_name": "Python 3"
    },
    "language_info": {
      "name": "python"
    }
  },
  "cells": [
    {
      "cell_type": "markdown",
      "metadata": {
        "id": "view-in-github",
        "colab_type": "text"
      },
      "source": [
        "<a href=\"https://colab.research.google.com/github/namwootree/Algorithm_study/blob/main/%EC%9D%B4%EA%B2%83%EC%9D%B4%20%EC%B7%A8%EC%97%85%EC%9D%84%20%EC%9C%84%ED%95%9C%20%EC%BD%94%EB%94%A9%20%ED%85%8C%EC%8A%A4%ED%8A%B8%EB%8B%A4%20with%20%ED%8C%8C%EC%9D%B4%EC%8D%AC/DFS_%26_BFS.ipynb\" target=\"_parent\"><img src=\"https://colab.research.google.com/assets/colab-badge.svg\" alt=\"Open In Colab\"/></a>"
      ]
    },
    {
      "cell_type": "markdown",
      "source": [
        "# 탐색\n",
        "\n"
      ],
      "metadata": {
        "id": "Q4eJ2DIypWjS"
      }
    },
    {
      "cell_type": "markdown",
      "source": [
        "많은 양의 데이터 중에서 원하는 데이터를 찾는 과정\u0004"
      ],
      "metadata": {
        "id": "6Upo_Dgw49I1"
      }
    },
    {
      "cell_type": "markdown",
      "source": [
        "# 스택 자료구조\n",
        "\n"
      ],
      "metadata": {
        "id": "IkNcZ2xPpodO"
      }
    },
    {
      "cell_type": "markdown",
      "source": [
        "* 먼저 들어 온 데이터가 나중에 나가는 형식 (선입후출)\n",
        "* 입구와 출구가 동일한 형태로 스택을 시각화할 수 있음"
      ],
      "metadata": {
        "id": "l_Q_zbjN4_v3"
      }
    },
    {
      "cell_type": "code",
      "source": [
        "stack = []\n",
        "\n",
        "stack.append(1)\n",
        "stack.append(2)\n",
        "stack.append(3)\n",
        "stack.pop()\n",
        "stack.append(4)\n",
        "\n",
        "print(stack[::-1])"
      ],
      "metadata": {
        "colab": {
          "base_uri": "https://localhost:8080/"
        },
        "id": "Qmx2VLca1l8p",
        "outputId": "0a3f0769-eb62-48a8-9350-dc2eb6b928d7"
      },
      "execution_count": 20,
      "outputs": [
        {
          "output_type": "stream",
          "name": "stdout",
          "text": [
            "[4, 2, 1]\n"
          ]
        }
      ]
    },
    {
      "cell_type": "markdown",
      "source": [
        "# 큐 자료구조\n",
        "\n"
      ],
      "metadata": {
        "id": "aGYWkiE7rqGf"
      }
    },
    {
      "cell_type": "markdown",
      "source": [
        "* 먼저 들어 온 데이터가 먼저 나가는 형식 (선입선출)\n",
        "* 입구와 출구가 모두 뚫려 있는 터널과 같은 형태"
      ],
      "metadata": {
        "id": "vNPLeiQj5CVe"
      }
    },
    {
      "cell_type": "code",
      "source": [
        "from collections import deque\n",
        "\n",
        "queue = deque()\n",
        "\n",
        "queue.append(1)\n",
        "queue.append(2)\n",
        "queue.append(3)\n",
        "queue.popleft()\n",
        "queue.append(4)\n",
        "\n",
        "queue.reverse()\n",
        "print(queue)"
      ],
      "metadata": {
        "colab": {
          "base_uri": "https://localhost:8080/"
        },
        "id": "hYJ-9Zzq14od",
        "outputId": "8a6a533a-1f5d-473f-deff-04341254002d"
      },
      "execution_count": 21,
      "outputs": [
        {
          "output_type": "stream",
          "name": "stdout",
          "text": [
            "deque([4, 3, 2])\n"
          ]
        }
      ]
    },
    {
      "cell_type": "markdown",
      "source": [
        "# 재귀 함수\n",
        "\n"
      ],
      "metadata": {
        "id": "zqhjDTrhs8rO"
      }
    },
    {
      "cell_type": "markdown",
      "source": [
        "자기 자신을 다시 호출하는 함수"
      ],
      "metadata": {
        "id": "x4GcYVKi5E8Z"
      }
    },
    {
      "cell_type": "code",
      "source": [
        "# n!\n",
        "def factor(n):\n",
        "\n",
        "  if n <= 1:\n",
        "\n",
        "    return 1\n",
        "\n",
        "  return n * factor(n-1)"
      ],
      "metadata": {
        "id": "xsVcDfnu1Sug"
      },
      "execution_count": 17,
      "outputs": []
    },
    {
      "cell_type": "code",
      "source": [
        "print(factor(5))"
      ],
      "metadata": {
        "colab": {
          "base_uri": "https://localhost:8080/"
        },
        "id": "fpmaWRP71dDi",
        "outputId": "a18547e2-46ce-43c3-d7bb-b2397c03c8e4"
      },
      "execution_count": 18,
      "outputs": [
        {
          "output_type": "stream",
          "name": "stdout",
          "text": [
            "120\n"
          ]
        }
      ]
    },
    {
      "cell_type": "markdown",
      "source": [
        "# DFS\n",
        "\n",
        "\n",
        "  "
      ],
      "metadata": {
        "id": "HRJ21ykFzDtS"
      }
    },
    {
      "cell_type": "markdown",
      "source": [
        "그래프에서 깊은 부분을 우선적으로 탐색하는 알고리즘\n",
        "\n",
        "동작 과정\n",
        "   1. 탐색 시작 노드를 스택에 삽입하고 방문 처리\n",
        "   2. 스택의 최상단 노드에 방문하지 않은 인접한 노드가 하나라고 있으면 그 노드를 스택에 넣고 방문 처리 / 방문하지 않은 인접 노드가 없으면 스택에서 최상단 노드를 꺼냄\n",
        "   3. 더 이상 2번의 과정을 수행할 수 없을 때까지 반복"
      ],
      "metadata": {
        "id": "ar58p1e55JqF"
      }
    },
    {
      "cell_type": "code",
      "source": [
        "graph = [\n",
        "    [],\n",
        "    [2, 3, 8],\n",
        "    [1, 7],\n",
        "    [1, 4, 5],\n",
        "    [3, 5],\n",
        "    [3, 4],\n",
        "    [7],\n",
        "    [2, 6, 8],\n",
        "    [1, 7]\n",
        "]\n",
        "\n",
        "visited = [False] * 9"
      ],
      "metadata": {
        "id": "5b08e7oU02fo"
      },
      "execution_count": 14,
      "outputs": []
    },
    {
      "cell_type": "code",
      "execution_count": 15,
      "metadata": {
        "id": "xrBMaDG3pG09"
      },
      "outputs": [],
      "source": [
        "def dfs(graph, v, visited):\n",
        "  # 현재 노드를 방문 처리\n",
        "  visited[v] = True\n",
        "\n",
        "  print(v, end=' ')\n",
        "\n",
        "  # 현재 노드와 연결된 다른 노드를 재귀적으로 방문\n",
        "  for i in graph[v]:\n",
        "\n",
        "    if not visited[i]:\n",
        "      dfs(graph, i, visited)"
      ]
    },
    {
      "cell_type": "code",
      "source": [
        "dfs(graph, 1, visited)"
      ],
      "metadata": {
        "colab": {
          "base_uri": "https://localhost:8080/"
        },
        "id": "NCR33kql0t3L",
        "outputId": "2fc106f3-5b3e-4ee8-97ad-b13e68b68680"
      },
      "execution_count": 16,
      "outputs": [
        {
          "output_type": "stream",
          "name": "stdout",
          "text": [
            "1 2 7 6 8 3 4 5 "
          ]
        }
      ]
    },
    {
      "cell_type": "markdown",
      "source": [
        "# BFS\n",
        "\n"
      ],
      "metadata": {
        "id": "pPRFM8f-2SrD"
      }
    },
    {
      "cell_type": "markdown",
      "source": [
        "그래프에서 가까운 노드부터 우선적으로 탐색하는 알고리즘\n",
        "\n",
        "동작 과정\n",
        "  1. 탐색 시작 노드를 큐에 삽입하고 방문 처리\n",
        "  2. 큐에서 노드를 커낸 뒤에 해당 노드의 인접 노드중에서 방문하지 않은 노드를 모두 큐에 삽입하고 방문 처리\n",
        "  3. 더 이상 2번의 과정을 수행할 수 없을 때까지 반복"
      ],
      "metadata": {
        "id": "eAHGbcNU5Omx"
      }
    },
    {
      "cell_type": "code",
      "source": [
        "graph = [\n",
        "    [],\n",
        "    [2, 3, 8],\n",
        "    [1, 7],\n",
        "    [1, 4, 5],\n",
        "    [3, 5],\n",
        "    [3, 4],\n",
        "    [7],\n",
        "    [2, 6, 8],\n",
        "    [1, 7]\n",
        "]\n",
        "\n",
        "visited = [False] * 9"
      ],
      "metadata": {
        "id": "nEOghG174PkB"
      },
      "execution_count": 25,
      "outputs": []
    },
    {
      "cell_type": "code",
      "source": [
        "from collections import deque\n",
        "\n",
        "def bfs(graph, start, visited):\n",
        "\n",
        "  queue = deque([start])\n",
        "  # 현재 노드를 방문 처리\n",
        "  visited[start] = True\n",
        "\n",
        "  # 큐가 빌 때까지 반복\n",
        "  while queue:\n",
        "\n",
        "    # 큐에서 하나의 원소를 뽑아 출력\n",
        "    v = queue.popleft()\n",
        "    print(v, end=' ')\n",
        "\n",
        "    # 아직 반복하지 않은 인접한 원소들을 큐에 삽입\n",
        "    for i in graph[v]:\n",
        "\n",
        "      if not visited[i]:\n",
        "\n",
        "        queue.append(i)\n",
        "        visited[i] = True"
      ],
      "metadata": {
        "id": "GDqDSOkh1FNc"
      },
      "execution_count": 26,
      "outputs": []
    },
    {
      "cell_type": "code",
      "source": [
        "bfs(graph, 1, visited)"
      ],
      "metadata": {
        "colab": {
          "base_uri": "https://localhost:8080/"
        },
        "id": "2wBeBwdB4SGA",
        "outputId": "0922db20-d315-459f-8c83-4cff82534c7d"
      },
      "execution_count": 27,
      "outputs": [
        {
          "output_type": "stream",
          "name": "stdout",
          "text": [
            "1 2 3 8 7 4 5 6 "
          ]
        }
      ]
    },
    {
      "cell_type": "markdown",
      "source": [
        "# 문제"
      ],
      "metadata": {
        "id": "kkk_-s0P421S"
      }
    },
    {
      "cell_type": "markdown",
      "source": [
        "N * M 크기의 얼음 틀이 있다. 구멍이 뚫려 있는 부분은 0, 칸막이가 존재하는 부분은 1로 표시된다. 구멍이 뚫려 있는 부분끼리 상, 하, 좌, 우로 붙어 있는 경우 서로 연결되어 있는 것으로 간주한다.\n",
        "\n",
        " 이때 얼음 틀의 모양이 주어졌을 때 생성되는 총 아이스크림 개수를 구하는 프로그램을 작성"
      ],
      "metadata": {
        "id": "KG3711cB5UHl"
      }
    },
    {
      "cell_type": "markdown",
      "source": [
        "**알고리즘**\n",
        "\n",
        "* 특정한 지점의 주변 상, 하, 좌, 우를 살펴본 뒤에 주변 지점 중에서 값이 '0'이면서 아직 방문하지 않은 지점이 있다면 해당 지점을 방문한다\n",
        "* 방문한 지점에서 다시 상, 하, 좌, 우를 살펴보면서 방문을 진행하는 과정을 반복하면, 연결된 모든 지점을 방문할 수 있다\n",
        "* 모든 노드에 대하여 1 ~ 2번의 과정을 반복하며, 방문하지 않은 지점의 수를 카운트한다"
      ],
      "metadata": {
        "id": "wEAEef9X6X_1"
      }
    },
    {
      "cell_type": "code",
      "source": [
        "n, m = map(int, input().split())"
      ],
      "metadata": {
        "id": "3i_gnCLY80BF"
      },
      "execution_count": null,
      "outputs": []
    },
    {
      "cell_type": "code",
      "source": [
        "# DFS로 특정 노드를 방문하고 연결된 모드 노드들도 방문\n",
        "def dfs(x, y):\n",
        "\n",
        "  # 주어진 범위를 벗어나는 경우에는 즉시 종료\n",
        "  if x <= -1 or x >= n or y <= -1 y >= m:\n",
        "\n",
        "    return False\n",
        "  \n",
        "  # 현재 노드를 아직 방문하지 않았다면\n",
        "  if graph[x][y] == 0:\n",
        "    \n",
        "    # 해당 노드 방문 처리 \n",
        "    graph[x][y] = 1\n",
        "\n",
        "    # 상, 하, 좌, 우의 위치들도 모두 재귀적으로 호출\n",
        "    dfs(x - 1, y)\n",
        "    dfs(x, y - 1)\n",
        "    dfs(x + 1, y)\n",
        "    dfs(x, y + 1)\n",
        "    \n",
        "    return True\n",
        "  \n",
        "  return False"
      ],
      "metadata": {
        "id": "NUz-AmyW4Uzh"
      },
      "execution_count": null,
      "outputs": []
    },
    {
      "cell_type": "code",
      "source": [
        "graph = []\n",
        "\n",
        "# 2차원 리스트의 맵 정보 입력 받기\n",
        "for i in range(n):\n",
        "\n",
        "  graph.append(list(map(int, input())))\n",
        "\n",
        "# 모든 노드에 대하여 음료수 채우기\n",
        "result = 0\n",
        "\n",
        "for i in range(n):\n",
        "\n",
        "  for j in range(m):\n",
        "\n",
        "    # 현재 위치에서 DFS 수행\n",
        "    if dfs(i, j) == True:\n",
        "      result += 1\n",
        "\n",
        "# 정답 출력\n",
        "print(result)"
      ],
      "metadata": {
        "id": "KNGSWtJs76UI"
      },
      "execution_count": null,
      "outputs": []
    },
    {
      "cell_type": "markdown",
      "source": [
        "N * M 크기의 직사각형 형태의 미로에 갇혔습니다. 미로에는 여러 마리의 괴물이 있어 이를 피해 탈출해야 합니다 현 위치는 (1, 1)이며 미로의 출구는(N, M)의 위치에 존재하며 한 번에 한 칸씩 이동할 수 있습니다 이때 괴물이 있는 부분은 0으로, 괴물이 없는 부분은 1로 표시되어 있습니다. 미로는 반드시 탈출할 수 있는 형태로 제시됩니다 \n",
        "\n",
        "탈출하기 위해 움직여야 하는 최소 칸의 개수를 구하세요"
      ],
      "metadata": {
        "id": "grmSFh4e_ChM"
      }
    },
    {
      "cell_type": "markdown",
      "source": [
        "**알고리즘**\n",
        "\n",
        "* BFS 시작 지점에서 가까운 노드부터 차례대로 그래프의 모든 노드를 탐색합니다\n",
        "* 상, 하, 좌, 우로 연결된 모든 노드로의 거리가 1로 동일하다. 따라서 BFS를 수행하여 모든 노드의 최단 거리 값을 기록하면 해결할 수 있다\n"
      ],
      "metadata": {
        "id": "Vn2MDELT_2pY"
      }
    },
    {
      "cell_type": "code",
      "source": [
        "n, m = map(int, input().split())"
      ],
      "metadata": {
        "id": "-aeW5VMv_CC3"
      },
      "execution_count": null,
      "outputs": []
    },
    {
      "cell_type": "code",
      "source": [
        "def bsf(x, y):\n",
        "\n",
        "  queue = deque()\n",
        "  queue.append((x, y))\n",
        "\n",
        "  # 큐가 빌 때까지 반복\n",
        "  while queue:\n",
        "\n",
        "    x, y = queue.popleft()\n",
        "\n",
        "    # 현재 위치에서 4가지 방향으로의 위치 확인\n",
        "    for i in range(4):\n",
        "\n",
        "      nx = x + dx[i]\n",
        "      ny = y + dy[i]\n",
        "\n",
        "      # 미로 찾기 공간을 벗아나는 경우 무시\n",
        "      if nx < 0 or nx >= n or ny < 0 or ny >= m:\n",
        "\n",
        "        continue\n",
        "\n",
        "      # 벽인 경우 무시\n",
        "      if graph[nx][ny] == 0:\n",
        "\n",
        "        continue\n",
        "\n",
        "      # 해당 노드를 처음 방문하는 경우에만 최단 거리 기록\n",
        "      if graph[nx][ny] == 1:\n",
        "\n",
        "        graph[nx][ny] = graph[x][y] + 1\n",
        "        queue.append((nx, ny))\n",
        "  \n",
        "  # 가장 오른쪽 아래까지의 최단 거리 반환\n",
        "  return graph[n - 1][m - 1]"
      ],
      "metadata": {
        "id": "wMjNbzSlBH3g"
      },
      "execution_count": null,
      "outputs": []
    },
    {
      "cell_type": "code",
      "source": [
        "graph = []\n",
        "\n",
        "for i in range(n):\n",
        "\n",
        "  graph.append(list(map(int, input())))\n",
        "\n",
        "dx = [-1, 1, 0 , 0]\n",
        "dy = [0 , 0, -1, 1]\n",
        "\n",
        "print(bfs(0, 0))"
      ],
      "metadata": {
        "id": "Y1IQXFwHAldY"
      },
      "execution_count": null,
      "outputs": []
    }
  ]
}